{
 "cells": [
  {
   "cell_type": "markdown",
   "id": "9d878e4d",
   "metadata": {},
   "source": [
    "# Write a solution to find all dates' Id with higher temperatures compared to its previous dates (yesterday).\n",
    "\n",
    "Return the result table in any order.\n",
    "\n",
    "Please use the following input Weather table for your solution. To receive full marks you will need to create the database, create the table, insert the data below and execute the SQL query.\n",
    "\n",
    " "
   ]
  },
  {
   "cell_type": "code",
   "execution_count": 1,
   "id": "78636b82",
   "metadata": {},
   "outputs": [],
   "source": [
    "import sqlite3\n",
    "\n",
    "# Connect to SQLite database (or create it if it doesn't exist)\n",
    "conn = sqlite3.connect(':memory:')  # Use ':memory:' for in-memory database\n",
    "cur = conn.cursor()\n",
    "\n",
    "# Create Weather table\n",
    "cur.execute('''\n",
    "    CREATE TABLE Weather (\n",
    "        id INTEGER PRIMARY KEY,\n",
    "        recordDate DATE,\n",
    "        temperature INTEGER\n",
    "    )\n",
    "''')\n",
    "\n",
    "# Insert data into Weather table\n",
    "weather_data = [\n",
    "    (1, '2015-01-01', 10),\n",
    "    (2, '2015-01-02', 25),\n",
    "    (3, '2015-01-03', 20),\n",
    "    (4, '2015-01-04', 30)\n",
    "]\n",
    "\n",
    "cur.executemany('INSERT INTO Weather (id, recordDate, temperature) VALUES (?, ?, ?)', weather_data)\n",
    "\n",
    "# Commit the transaction\n",
    "conn.commit()\n"
   ]
  },
  {
   "cell_type": "code",
   "execution_count": 2,
   "id": "a2fe01ab",
   "metadata": {},
   "outputs": [
    {
     "data": {
      "text/plain": [
       "<sqlite3.Cursor at 0x2312cea2180>"
      ]
     },
     "execution_count": 2,
     "metadata": {},
     "output_type": "execute_result"
    }
   ],
   "source": [
    "# SQL query to find IDs with higher temperatures compared to previous days\n",
    "query = '''\n",
    "    SELECT w.id\n",
    "    FROM Weather w\n",
    "    WHERE w.temperature > (\n",
    "        SELECT w_prev.temperature\n",
    "        FROM Weather w_prev\n",
    "        WHERE w_prev.recordDate = DATE(w.recordDate, '-1 day')\n",
    "    )\n",
    "'''\n",
    "\n",
    "# Execute the SQL query\n",
    "cur.execute(query)\n",
    "\n"
   ]
  },
  {
   "cell_type": "code",
   "execution_count": 3,
   "id": "121e62ff",
   "metadata": {},
   "outputs": [
    {
     "name": "stdout",
     "output_type": "stream",
     "text": [
      "Output:\n",
      "+-----+\n",
      "|  id |\n",
      "+-----+\n",
      "|  2  |\n",
      "|  4  |\n",
      "+-----+\n"
     ]
    }
   ],
   "source": [
    "# Fetch and print the results\n",
    "results = cur.fetchall()\n",
    "print(\"Output:\")\n",
    "\n",
    "print(\"+-----+\\n|  id |\\n+-----+\")\n",
    "for row in results:\n",
    "    print(f\"|  {row[0]}  |\")\n",
    "print(\"+-----+\")\n",
    "\n",
    "# Close the connection\n",
    "conn.close()\n"
   ]
  },
  {
   "cell_type": "code",
   "execution_count": null,
   "id": "6e910f47",
   "metadata": {},
   "outputs": [],
   "source": []
  },
  {
   "cell_type": "code",
   "execution_count": null,
   "id": "d9dd650e",
   "metadata": {},
   "outputs": [],
   "source": []
  }
 ],
 "metadata": {
  "kernelspec": {
   "display_name": "Python 3",
   "language": "python",
   "name": "python3"
  },
  "language_info": {
   "codemirror_mode": {
    "name": "ipython",
    "version": 3
   },
   "file_extension": ".py",
   "mimetype": "text/x-python",
   "name": "python",
   "nbconvert_exporter": "python",
   "pygments_lexer": "ipython3",
   "version": "3.8.8"
  }
 },
 "nbformat": 4,
 "nbformat_minor": 5
}
